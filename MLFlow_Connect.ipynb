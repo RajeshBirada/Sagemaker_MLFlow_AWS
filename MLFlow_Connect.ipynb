{
 "cells": [
  {
   "cell_type": "code",
   "execution_count": 1,
   "metadata": {},
   "outputs": [],
   "source": [
    "#http://ec2-54-221-58-134.compute-1.amazonaws.com:5000/#/"
   ]
  },
  {
   "cell_type": "code",
   "execution_count": 14,
   "metadata": {},
   "outputs": [],
   "source": [
    "from mlflow.tracking import MlflowClient\n"
   ]
  },
  {
   "cell_type": "code",
   "execution_count": 15,
   "metadata": {},
   "outputs": [],
   "source": [
    "client = MlflowClient(\"http://ec2-54-221-58-134.compute-1.amazonaws.com:5000\")\n"
   ]
  },
  {
   "cell_type": "code",
   "execution_count": 16,
   "metadata": {},
   "outputs": [],
   "source": [
    "experiment_name=\"mlflow_artifacts\"\n",
    "#exp_id = client.create_experiment(\"Experiment\")\n",
    "experiment = client.get_experiment_by_name(experiment_name)"
   ]
  },
  {
   "cell_type": "code",
   "execution_count": 26,
   "metadata": {},
   "outputs": [
    {
     "ename": "AttributeError",
     "evalue": "'Experiment' object has no attribute 'get_active_run_id'",
     "output_type": "error",
     "traceback": [
      "\u001b[0;31m---------------------------------------------------------------------------\u001b[0m",
      "\u001b[0;31mAttributeError\u001b[0m                            Traceback (most recent call last)",
      "\u001b[0;32m<ipython-input-26-7fe96c628602>\u001b[0m in \u001b[0;36m<module>\u001b[0;34m\u001b[0m\n\u001b[0;32m----> 1\u001b[0;31m \u001b[0mexperiment\u001b[0m\u001b[0;34m.\u001b[0m\u001b[0mget_active_run_id\u001b[0m\u001b[0;34m(\u001b[0m\u001b[0;34m)\u001b[0m\u001b[0;34m\u001b[0m\u001b[0;34m\u001b[0m\u001b[0m\n\u001b[0m",
      "\u001b[0;31mAttributeError\u001b[0m: 'Experiment' object has no attribute 'get_active_run_id'"
     ]
    }
   ],
   "source": [
    "experiment.get_active_run_id()"
   ]
  },
  {
   "cell_type": "code",
   "execution_count": 17,
   "metadata": {},
   "outputs": [
    {
     "name": "stdout",
     "output_type": "stream",
     "text": [
      "Experiment ID: 2\n"
     ]
    }
   ],
   "source": [
    "print(\"Experiment ID: {}\".format(experiment.experiment_id))\n"
   ]
  },
  {
   "cell_type": "code",
   "execution_count": 20,
   "metadata": {},
   "outputs": [
    {
     "data": {
      "text/plain": [
       "[<RunInfo: artifact_uri='s3://ml-test-mlflow/mlartifact/2/e4ee266b951d46fea9d4f9b2e3d9d7ac/artifacts', end_time=1652252362517, experiment_id='2', lifecycle_stage='active', run_id='e4ee266b951d46fea9d4f9b2e3d9d7ac', run_uuid='e4ee266b951d46fea9d4f9b2e3d9d7ac', start_time=1652252358553, status='FINISHED', user_id='root'>,\n",
       " <RunInfo: artifact_uri='s3://ml-test-mlflow/mlartifact/2/bd413e7d06234a8692c83a81ab3f99b7/artifacts', end_time=1652245813558, experiment_id='2', lifecycle_stage='active', run_id='bd413e7d06234a8692c83a81ab3f99b7', run_uuid='bd413e7d06234a8692c83a81ab3f99b7', start_time=1652245809489, status='FINISHED', user_id='root'>]"
      ]
     },
     "execution_count": 20,
     "metadata": {},
     "output_type": "execute_result"
    }
   ],
   "source": [
    "#run = mlflow.active_run()\n",
    "client.list_run_infos(experiment.experiment_id)"
   ]
  },
  {
   "cell_type": "code",
   "execution_count": 39,
   "metadata": {},
   "outputs": [
    {
     "data": {
      "text/plain": [
       "[<Run: data=<RunData: metrics={}, params={}, tags={'Env': 'Development',\n",
       "  'mlflow.source.name': '/opt/conda/lib/python3.7/site-packages/ipykernel_launcher.py',\n",
       "  'mlflow.source.type': 'LOCAL',\n",
       "  'mlflow.user': 'root'}>, info=<RunInfo: artifact_uri='s3://ml-test-mlflow/mlartifact/2/9919bd7fc79b4d51b6c3d043b4b81bed/artifacts', end_time=1652253760090, experiment_id='2', lifecycle_stage='active', run_id='9919bd7fc79b4d51b6c3d043b4b81bed', run_uuid='9919bd7fc79b4d51b6c3d043b4b81bed', start_time=1652253755398, status='FINISHED', user_id='root'>>,\n",
       " <Run: data=<RunData: metrics={}, params={}, tags={'Env': 'Development',\n",
       "  'mlflow.source.name': '/opt/conda/lib/python3.7/site-packages/ipykernel_launcher.py',\n",
       "  'mlflow.source.type': 'LOCAL',\n",
       "  'mlflow.user': 'root'}>, info=<RunInfo: artifact_uri='s3://ml-test-mlflow/mlartifact/2/9acf1db8acc248d9a13dd15839baeba3/artifacts', end_time=1652253696744, experiment_id='2', lifecycle_stage='active', run_id='9acf1db8acc248d9a13dd15839baeba3', run_uuid='9acf1db8acc248d9a13dd15839baeba3', start_time=1652253668237, status='FINISHED', user_id='root'>>,\n",
       " <Run: data=<RunData: metrics={}, params={}, tags={'Env': 'Development',\n",
       "  'mlflow.source.name': '/opt/conda/lib/python3.7/site-packages/ipykernel_launcher.py',\n",
       "  'mlflow.source.type': 'LOCAL',\n",
       "  'mlflow.user': 'root'}>, info=<RunInfo: artifact_uri='s3://ml-test-mlflow/mlartifact/2/429d8baead0c4b97904e441760e4b7af/artifacts', end_time=1652253658484, experiment_id='2', lifecycle_stage='active', run_id='429d8baead0c4b97904e441760e4b7af', run_uuid='429d8baead0c4b97904e441760e4b7af', start_time=1652253629739, status='FINISHED', user_id='root'>>]"
      ]
     },
     "execution_count": 39,
     "metadata": {},
     "output_type": "execute_result"
    }
   ],
   "source": [
    "#, order_by=[\"metrics.end_time DESC\",\"tags.Env\"]\n",
    "ff = client.search_runs(experiment_ids=experiment.experiment_id, filter_string=\"tags.Env = 'Development'\")\n",
    "ff"
   ]
  },
  {
   "cell_type": "code",
   "execution_count": 32,
   "metadata": {},
   "outputs": [
    {
     "data": {
      "text/plain": [
       "[<Run: data=<RunData: metrics={}, params={}, tags={'Env': 'Development',\n",
       "  'mlflow.source.name': '/opt/conda/lib/python3.7/site-packages/ipykernel_launcher.py',\n",
       "  'mlflow.source.type': 'LOCAL',\n",
       "  'mlflow.user': 'root'}>, info=<RunInfo: artifact_uri='s3://ml-test-mlflow/mlartifact/2/9919bd7fc79b4d51b6c3d043b4b81bed/artifacts', end_time=1652253760090, experiment_id='2', lifecycle_stage='active', run_id='9919bd7fc79b4d51b6c3d043b4b81bed', run_uuid='9919bd7fc79b4d51b6c3d043b4b81bed', start_time=1652253755398, status='FINISHED', user_id='root'>>,\n",
       " <Run: data=<RunData: metrics={}, params={}, tags={'Env': 'Development',\n",
       "  'mlflow.source.name': '/opt/conda/lib/python3.7/site-packages/ipykernel_launcher.py',\n",
       "  'mlflow.source.type': 'LOCAL',\n",
       "  'mlflow.user': 'root'}>, info=<RunInfo: artifact_uri='s3://ml-test-mlflow/mlartifact/2/9acf1db8acc248d9a13dd15839baeba3/artifacts', end_time=1652253696744, experiment_id='2', lifecycle_stage='active', run_id='9acf1db8acc248d9a13dd15839baeba3', run_uuid='9acf1db8acc248d9a13dd15839baeba3', start_time=1652253668237, status='FINISHED', user_id='root'>>,\n",
       " <Run: data=<RunData: metrics={}, params={}, tags={'Env': 'Development',\n",
       "  'mlflow.source.name': '/opt/conda/lib/python3.7/site-packages/ipykernel_launcher.py',\n",
       "  'mlflow.source.type': 'LOCAL',\n",
       "  'mlflow.user': 'root'}>, info=<RunInfo: artifact_uri='s3://ml-test-mlflow/mlartifact/2/429d8baead0c4b97904e441760e4b7af/artifacts', end_time=1652253658484, experiment_id='2', lifecycle_stage='active', run_id='429d8baead0c4b97904e441760e4b7af', run_uuid='429d8baead0c4b97904e441760e4b7af', start_time=1652253629739, status='FINISHED', user_id='root'>>,\n",
       " <Run: data=<RunData: metrics={}, params={}, tags={'mlflow.source.name': '/opt/conda/lib/python3.7/site-packages/ipykernel_launcher.py',\n",
       "  'mlflow.source.type': 'LOCAL',\n",
       "  'mlflow.user': 'root'}>, info=<RunInfo: artifact_uri='s3://ml-test-mlflow/mlartifact/2/e4ee266b951d46fea9d4f9b2e3d9d7ac/artifacts', end_time=1652252362517, experiment_id='2', lifecycle_stage='active', run_id='e4ee266b951d46fea9d4f9b2e3d9d7ac', run_uuid='e4ee266b951d46fea9d4f9b2e3d9d7ac', start_time=1652252358553, status='FINISHED', user_id='root'>>,\n",
       " <Run: data=<RunData: metrics={}, params={}, tags={'mlflow.source.name': '/opt/conda/lib/python3.7/site-packages/ipykernel_launcher.py',\n",
       "  'mlflow.source.type': 'LOCAL',\n",
       "  'mlflow.user': 'root'}>, info=<RunInfo: artifact_uri='s3://ml-test-mlflow/mlartifact/2/bd413e7d06234a8692c83a81ab3f99b7/artifacts', end_time=1652245813558, experiment_id='2', lifecycle_stage='active', run_id='bd413e7d06234a8692c83a81ab3f99b7', run_uuid='bd413e7d06234a8692c83a81ab3f99b7', start_time=1652245809489, status='FINISHED', user_id='root'>>]"
      ]
     },
     "execution_count": 32,
     "metadata": {},
     "output_type": "execute_result"
    }
   ],
   "source": [
    "#df = client.search_runs([experiment.experiment_id], order_by=[\"info.end_time DESC\"])\n",
    "df = client.search_runs([experiment.experiment_id])\n",
    "df"
   ]
  },
  {
   "cell_type": "code",
   "execution_count": 21,
   "metadata": {},
   "outputs": [
    {
     "name": "stdout",
     "output_type": "stream",
     "text": [
      "Name: mlflow_artifacts\n",
      "Experiment_id: 2\n",
      "Artifact Location: s3://ml-test-mlflow/mlartifact/2\n",
      "Tags: {}\n",
      "Lifecycle_stage: active\n"
     ]
    }
   ],
   "source": [
    "print(\"Name: {}\".format(experiment.name))\n",
    "print(\"Experiment_id: {}\".format(experiment.experiment_id))\n",
    "print(\"Artifact Location: {}\".format(experiment.artifact_location))\n",
    "print(\"Tags: {}\".format(experiment.tags))\n",
    "print(\"Lifecycle_stage: {}\".format(experiment.lifecycle_stage))"
   ]
  },
  {
   "cell_type": "code",
   "execution_count": 13,
   "metadata": {},
   "outputs": [
    {
     "name": "stdout",
     "output_type": "stream",
     "text": [
      "2022-05-11 05:10:12     339509 mlartifact/2/bd413e7d06234a8692c83a81ab3f99b7/artifacts/Classifier.pkl\n",
      "2022-05-11 05:10:13     680669 mlartifact/2/bd413e7d06234a8692c83a81ab3f99b7/artifacts/TFIDFVectorizer.pkl\n",
      "\n",
      "Total Objects: 2\n",
      "   Total Size: 1020178\n"
     ]
    }
   ],
   "source": [
    "!aws s3 ls --recursive s3://ml-test-mlflow/mlartifact/2 --summarize"
   ]
  },
  {
   "cell_type": "code",
   "execution_count": null,
   "metadata": {},
   "outputs": [],
   "source": [
    "    "
   ]
  }
 ],
 "metadata": {
  "instance_type": "ml.t3.medium",
  "kernelspec": {
   "display_name": "Python 3 (Data Science)",
   "language": "python",
   "name": "python3__SAGEMAKER_INTERNAL__arn:aws:sagemaker:ap-south-1:394103062818:image/datascience-1.0"
  },
  "language_info": {
   "codemirror_mode": {
    "name": "ipython",
    "version": 3
   },
   "file_extension": ".py",
   "mimetype": "text/x-python",
   "name": "python",
   "nbconvert_exporter": "python",
   "pygments_lexer": "ipython3",
   "version": "3.7.10"
  }
 },
 "nbformat": 4,
 "nbformat_minor": 4
}
